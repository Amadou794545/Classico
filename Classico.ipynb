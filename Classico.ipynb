{
  "nbformat": 4,
  "nbformat_minor": 0,
  "metadata": {
    "colab": {
      "provenance": [],
      "authorship_tag": "ABX9TyNFEvR1nHSXfYhaKIpfsDSz",
      "include_colab_link": true
    },
    "kernelspec": {
      "name": "python3",
      "display_name": "Python 3"
    },
    "language_info": {
      "name": "python"
    }
  },
  "cells": [
    {
      "cell_type": "markdown",
      "metadata": {
        "id": "view-in-github",
        "colab_type": "text"
      },
      "source": [
        "<a href=\"https://colab.research.google.com/github/Amadou794545/Classico/blob/main/Classico.ipynb\" target=\"_parent\"><img src=\"https://colab.research.google.com/assets/colab-badge.svg\" alt=\"Open In Colab\"/></a>"
      ]
    },
    {
      "cell_type": "markdown",
      "source": [],
      "metadata": {
        "id": "dQXTjHHfrNzd"
      }
    },
    {
      "cell_type": "code",
      "execution_count": null,
      "metadata": {
        "id": "KG0TuQIWKdIc"
      },
      "outputs": [],
      "source": [
        "import requests\n",
        "import pandas as pd"
      ]
    },
    {
      "cell_type": "code",
      "source": [
        "# Définir les URLs pour le Barça et le Real Madrid avec le filtre de saison\n",
        "url_barca = \"https://api.football-data.org/v4/teams/81/matches?season=2024\"  # FC Barcelone\n",
        "url_madrid = \"https://api.football-data.org/v4/teams/86/matches?season=2024\"  # Real Madrid\n",
        "\n",
        "headers = {\n",
        "    \"X-Auth-Token\": \"752078050488454dbfba2156bddacac3\"\n",
        "}"
      ],
      "metadata": {
        "id": "7NxmHvySpNpH"
      },
      "execution_count": null,
      "outputs": []
    },
    {
      "cell_type": "code",
      "source": [
        "# Fonction mise à jour pour gérer les scores avec les bonnes clés\n",
        "def fetch_team_matches_as_dataframe(url, team_name):\n",
        "    response = requests.get(url, headers=headers)\n",
        "\n",
        "    if response.status_code == 200:\n",
        "        data = response.json()  # Récupérer les données JSON\n",
        "\n",
        "        # Extraire les matchs\n",
        "        matches = data.get(\"matches\", [])\n",
        "\n",
        "        # Construire une liste de dictionnaires avec les informations importantes\n",
        "        rows = []\n",
        "        for match in matches:\n",
        "            # Extraire les scores uniquement si disponibles\n",
        "            full_time_score = match.get(\"score\", {}).get(\"fullTime\", {})\n",
        "            rows.append({\n",
        "                \"team\": team_name,\n",
        "                \"match_id\": match.get(\"id\"),\n",
        "                \"utc_date\": match.get(\"utcDate\"),\n",
        "                \"status\": match.get(\"status\"),\n",
        "                \"home_team\": match.get(\"homeTeam\", {}).get(\"name\"),\n",
        "                \"away_team\": match.get(\"awayTeam\", {}).get(\"name\"),\n",
        "                \"competition\": match.get(\"competition\", {}).get(\"name\"),\n",
        "                \"score_home\": full_time_score.get(\"home\"),  # Correctement récupérer le score de l'équipe à domicile\n",
        "                \"score_away\": full_time_score.get(\"away\"),  # Correctement récupérer le score de l'équipe à l'extérieur\n",
        "            })\n",
        "\n",
        "        # Convertir en DataFrame\n",
        "        df = pd.DataFrame(rows)\n",
        "        return df\n",
        "    else:\n",
        "        print(f\"Erreur de la requête API pour {team_name}: {response.status_code}\")\n",
        "        return pd.DataFrame()  # Retourner un DataFrame vide en cas d'échec"
      ],
      "metadata": {
        "id": "XKBvFKe8pXNw"
      },
      "execution_count": null,
      "outputs": []
    },
    {
      "cell_type": "code",
      "source": [
        "# Récupérer les matchs du Barça et du Real Madrid\n",
        "df_barca = fetch_team_matches_as_dataframe(url_barca, \"barca\")\n",
        "df_madrid = fetch_team_matches_as_dataframe(url_madrid, \"madrid\")"
      ],
      "metadata": {
        "id": "hpxHLqdVpaIm"
      },
      "execution_count": null,
      "outputs": []
    },
    {
      "cell_type": "code",
      "source": [
        "# Filtrer les matchs terminés uniquement\n",
        "df_barca_played = df_barca[df_barca[\"status\"] == \"FINISHED\"]\n",
        "df_madrid_played = df_madrid[df_madrid[\"status\"] == \"FINISHED\"]"
      ],
      "metadata": {
        "id": "hEyBbT4apiXj"
      },
      "execution_count": null,
      "outputs": []
    },
    {
      "cell_type": "code",
      "source": [
        "# Afficher les résultats\n",
        "print(\"Matchs déjà joués du Barça :\")\n",
        "print(df_barca_played)\n",
        "\n",
        "print(\"\\nMatchs déjà joués du Real Madrid :\")\n",
        "print(df_madrid_played)"
      ],
      "metadata": {
        "colab": {
          "base_uri": "https://localhost:8080/"
        },
        "id": "I8iO2OvQpmEf",
        "outputId": "3e4d5b3c-218b-48e0-c358-7876df411578"
      },
      "execution_count": null,
      "outputs": [
        {
          "output_type": "stream",
          "name": "stdout",
          "text": [
            "Matchs déjà joués du Barça :\n",
            "     team  match_id              utc_date    status                 home_team  \\\n",
            "0   barca    498617  2024-08-17T19:30:00Z  FINISHED               Valencia CF   \n",
            "1   barca    498628  2024-08-24T17:00:00Z  FINISHED              FC Barcelona   \n",
            "2   barca    498637  2024-08-27T19:30:00Z  FINISHED  Rayo Vallecano de Madrid   \n",
            "3   barca    498647  2024-08-31T15:00:00Z  FINISHED              FC Barcelona   \n",
            "4   barca    498656  2024-09-15T14:15:00Z  FINISHED                 Girona FC   \n",
            "5   barca    524040  2024-09-19T19:00:00Z  FINISHED              AS Monaco FC   \n",
            "6   barca    498669  2024-09-22T16:30:00Z  FINISHED             Villarreal CF   \n",
            "7   barca    498675  2024-09-25T19:00:00Z  FINISHED              FC Barcelona   \n",
            "8   barca    498685  2024-09-28T19:00:00Z  FINISHED                CA Osasuna   \n",
            "9   barca    523942  2024-10-01T19:00:00Z  FINISHED              FC Barcelona   \n",
            "10  barca    498694  2024-10-06T14:15:00Z  FINISHED          Deportivo Alavés   \n",
            "11  barca    498707  2024-10-20T19:00:00Z  FINISHED              FC Barcelona   \n",
            "12  barca    523940  2024-10-23T19:00:00Z  FINISHED              FC Barcelona   \n",
            "13  barca    498718  2024-10-26T19:00:00Z  FINISHED            Real Madrid CF   \n",
            "14  barca    498732  2024-11-03T15:15:00Z  FINISHED              FC Barcelona   \n",
            "15  barca    524028  2024-11-06T20:00:00Z  FINISHED          FK Crvena Zvezda   \n",
            "16  barca    498740  2024-11-10T20:00:00Z  FINISHED   Real Sociedad de Fútbol   \n",
            "17  barca    498747  2024-11-23T20:00:00Z  FINISHED          RC Celta de Vigo   \n",
            "18  barca    523943  2024-11-26T20:00:00Z  FINISHED              FC Barcelona   \n",
            "19  barca    498754  2024-11-30T13:00:00Z  FINISHED              FC Barcelona   \n",
            "\n",
            "                    away_team            competition  score_home  score_away  \n",
            "0                FC Barcelona       Primera Division         1.0         2.0  \n",
            "1               Athletic Club       Primera Division         2.0         1.0  \n",
            "2                FC Barcelona       Primera Division         1.0         2.0  \n",
            "3          Real Valladolid CF       Primera Division         7.0         0.0  \n",
            "4                FC Barcelona       Primera Division         1.0         4.0  \n",
            "5                FC Barcelona  UEFA Champions League         2.0         1.0  \n",
            "6                FC Barcelona       Primera Division         1.0         5.0  \n",
            "7                   Getafe CF       Primera Division         1.0         0.0  \n",
            "8                FC Barcelona       Primera Division         4.0         2.0  \n",
            "9              BSC Young Boys  UEFA Champions League         5.0         0.0  \n",
            "10               FC Barcelona       Primera Division         0.0         3.0  \n",
            "11                 Sevilla FC       Primera Division         5.0         1.0  \n",
            "12          FC Bayern München  UEFA Champions League         4.0         1.0  \n",
            "13               FC Barcelona       Primera Division         0.0         4.0  \n",
            "14  RCD Espanyol de Barcelona       Primera Division         3.0         1.0  \n",
            "15               FC Barcelona  UEFA Champions League         2.0         5.0  \n",
            "16               FC Barcelona       Primera Division         1.0         0.0  \n",
            "17               FC Barcelona       Primera Division         2.0         2.0  \n",
            "18          Stade Brestois 29  UEFA Champions League         3.0         0.0  \n",
            "19              UD Las Palmas       Primera Division         1.0         2.0  \n",
            "\n",
            "Matchs déjà joués du Real Madrid :\n",
            "      team  match_id              utc_date    status                home_team  \\\n",
            "0   madrid    498619  2024-08-18T19:30:00Z  FINISHED             RCD Mallorca   \n",
            "1   madrid    498631  2024-08-25T15:00:00Z  FINISHED           Real Madrid CF   \n",
            "2   madrid    498641  2024-08-29T19:30:00Z  FINISHED            UD Las Palmas   \n",
            "3   madrid    498651  2024-09-01T19:30:00Z  FINISHED           Real Madrid CF   \n",
            "4   madrid    498660  2024-09-14T19:00:00Z  FINISHED  Real Sociedad de Fútbol   \n",
            "5   madrid    523967  2024-09-17T19:00:00Z  FINISHED           Real Madrid CF   \n",
            "6   madrid    498672  2024-09-21T19:00:00Z  FINISHED           Real Madrid CF   \n",
            "7   madrid    498680  2024-09-24T19:00:00Z  FINISHED           Real Madrid CF   \n",
            "8   madrid    498684  2024-09-29T19:00:00Z  FINISHED  Club Atlético de Madrid   \n",
            "9   madrid    524016  2024-10-02T19:00:00Z  FINISHED                Lille OSC   \n",
            "10  madrid    498698  2024-10-05T19:00:00Z  FINISHED           Real Madrid CF   \n",
            "11  madrid    498705  2024-10-19T19:00:00Z  FINISHED         RC Celta de Vigo   \n",
            "12  madrid    523964  2024-10-22T19:00:00Z  FINISHED           Real Madrid CF   \n",
            "13  madrid    498718  2024-10-26T19:00:00Z  FINISHED           Real Madrid CF   \n",
            "15  madrid    523965  2024-11-05T20:00:00Z  FINISHED           Real Madrid CF   \n",
            "16  madrid    498739  2024-11-09T13:00:00Z  FINISHED           Real Madrid CF   \n",
            "17  madrid    498746  2024-11-24T17:30:00Z  FINISHED               CD Leganés   \n",
            "18  madrid    523944  2024-11-27T20:00:00Z  FINISHED             Liverpool FC   \n",
            "19  madrid    498759  2024-12-01T15:15:00Z  FINISHED           Real Madrid CF   \n",
            "\n",
            "                    away_team            competition  score_home  score_away  \n",
            "0              Real Madrid CF       Primera Division         1.0         1.0  \n",
            "1          Real Valladolid CF       Primera Division         3.0         0.0  \n",
            "2              Real Madrid CF       Primera Division         1.0         1.0  \n",
            "3         Real Betis Balompié       Primera Division         2.0         0.0  \n",
            "4              Real Madrid CF       Primera Division         0.0         2.0  \n",
            "5               VfB Stuttgart  UEFA Champions League         3.0         1.0  \n",
            "6   RCD Espanyol de Barcelona       Primera Division         4.0         1.0  \n",
            "7            Deportivo Alavés       Primera Division         3.0         2.0  \n",
            "8              Real Madrid CF       Primera Division         1.0         1.0  \n",
            "9              Real Madrid CF  UEFA Champions League         1.0         0.0  \n",
            "10              Villarreal CF       Primera Division         2.0         0.0  \n",
            "11             Real Madrid CF       Primera Division         1.0         2.0  \n",
            "12          Borussia Dortmund  UEFA Champions League         5.0         2.0  \n",
            "13               FC Barcelona       Primera Division         0.0         4.0  \n",
            "15                   AC Milan  UEFA Champions League         1.0         3.0  \n",
            "16                 CA Osasuna       Primera Division         4.0         0.0  \n",
            "17             Real Madrid CF       Primera Division         0.0         3.0  \n",
            "18             Real Madrid CF  UEFA Champions League         2.0         0.0  \n",
            "19                  Getafe CF       Primera Division         2.0         0.0  \n"
          ]
        }
      ]
    },
    {
      "cell_type": "code",
      "source": [],
      "metadata": {
        "id": "Lek-9YHeydB4",
        "colab": {
          "base_uri": "https://localhost:8080/",
          "height": 106
        },
        "outputId": "818ce47b-a145-4a13-da80-1fcb474bb9e6"
      },
      "execution_count": null,
      "outputs": [
        {
          "output_type": "error",
          "ename": "SyntaxError",
          "evalue": "invalid syntax (<ipython-input-4-90af5a72c646>, line 1)",
          "traceback": [
            "\u001b[0;36m  File \u001b[0;32m\"<ipython-input-4-90af5a72c646>\"\u001b[0;36m, line \u001b[0;32m1\u001b[0m\n\u001b[0;31m    curl -X GET \"https://api.football-data.org/v4/teams/81/matches?season=2024\" -H \"X-Auth-Token: 752078050488454dbfba2156bddacac3\"\u001b[0m\n\u001b[0m            ^\u001b[0m\n\u001b[0;31mSyntaxError\u001b[0m\u001b[0;31m:\u001b[0m invalid syntax\n"
          ]
        }
      ]
    }
  ]
}